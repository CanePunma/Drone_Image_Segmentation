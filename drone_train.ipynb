{
 "cells": [
  {
   "cell_type": "markdown",
   "metadata": {},
   "source": [
    "# Data Preprocessing"
   ]
  },
  {
   "cell_type": "code",
   "execution_count": 1,
   "metadata": {
    "collapsed": false
   },
   "outputs": [
    {
     "name": "stderr",
     "output_type": "stream",
     "text": [
      "/home/ai2-jedi/anaconda2/lib/python2.7/site-packages/matplotlib/font_manager.py:273: UserWarning: Matplotlib is building the font cache using fc-list. This may take a moment.\n",
      "  warnings.warn('Matplotlib is building the font cache using fc-list. This may take a moment.')\n"
     ]
    }
   ],
   "source": [
    "from drone_lib import *"
   ]
  },
  {
   "cell_type": "markdown",
   "metadata": {},
   "source": [
    "### Specifiy Data Root, Current Working Directory, and Datasets"
   ]
  },
  {
   "cell_type": "code",
   "execution_count": 2,
   "metadata": {
    "collapsed": false
   },
   "outputs": [],
   "source": [
    "data_root = '/media/ai2-jedi/data_disk/data_sets/drone_data_2016.08.02/'\n",
    "output_root = '/media/ai2-jedi/data_disk/data_sets/drone_output_standard/'\n",
    "all_datasets = [['S8', 'DataSet_7'],['S7','DataSet_6']]"
   ]
  },
  {
   "cell_type": "markdown",
   "metadata": {},
   "source": [
    "\n",
    "### Create Class Dictionary"
   ]
  },
  {
   "cell_type": "code",
   "execution_count": 3,
   "metadata": {
    "collapsed": false
   },
   "outputs": [
    {
     "name": "stdout",
     "output_type": "stream",
     "text": [
      "{'bridge': 17, 'container': 15, 'reinforcement': 8, 'asphalt': 6, 'heap of sand': 7, 'cars': 13, 'pipes': 10, 'concrete_rings': 3, 'rubble': 11, 'bike lane': 12, 'water': 4, 'concrete': 1, 'trees': 14, 'background': 0, 'wooden boards': 9, 'foundations': 2, 'grass': 5, 'heavy earthy equipment': 16}\n",
      "('Number of classes: ', 18)\n"
     ]
    }
   ],
   "source": [
    "labels_dict = { 'background' : 0,'concrete_rings' : 3, 'cars' : 13, 'bike lane' : 12, \n",
    "               'grass' : 5,  'wooden boards' :9, 'bridge' : 17, 'concrete' : 1, 'foundations' : 2, 'trees' : 14, \n",
    "               'asphalt' : 6,  'heap of sand' : 7,  'reinforcement' : 8 , 'water' : 4, 'heavy earthy equipment' :16, \n",
    "               'pipes' : 10, 'rubble' : 11, 'container' :15}\n",
    "\n",
    "labels_dict_cleaned = standardizeStingNames(labels_dict)\n",
    "class_dict = flipDict(labels_dict_cleaned)\n",
    "print(labels_dict)\n",
    "print('Number of classes: ' , len(labels_dict_cleaned))"
   ]
  },
  {
   "cell_type": "markdown",
   "metadata": {},
   "source": [
    "### Crop and Save Shapefile"
   ]
  },
  {
   "cell_type": "code",
   "execution_count": 4,
   "metadata": {
    "collapsed": false,
    "scrolled": true
   },
   "outputs": [
    {
     "name": "stdout",
     "output_type": "stream",
     "text": [
      "('Preprocessing: ', ['S8', 'DataSet_7'])\n",
      "/media/ai2-jedi/data_disk/data_sets/drone_data_2016.08.02/S8/DataSet_7/\n",
      "/media/ai2-jedi/data_disk/data_sets/drone_data_2016.08.02/S8/DataSet_7/Labels_S8_DataSet_7/\n",
      "Currently working on S8_DS7_20160621_4\n",
      "/media/ai2-jedi/data_disk/data_sets/drone_output_standard/cropped_images/S8_DS7_20160621_4/\n",
      "Done. Total images cropped: 6318\n",
      "Creating label data\n",
      "Out of 1268 images, 928 had shapes in them and were saved.\n",
      "This took 1.92 minutes\n",
      "\n",
      "('The full time to preprocess is ', 1.92)\n"
     ]
    }
   ],
   "source": [
    "complete_start = time.time()\n",
    "for construc_site in all_datasets[:1]:\n",
    "    raw_data_root = data_root + construc_site[0] + '/' + construc_site[1] + '/'\n",
    "    shapes_root = data_root + construc_site[0] + '/' + construc_site[1] + '/' + 'Labels_' + construc_site[0] + '_' +construc_site[1] +'/'\n",
    "    print('Preprocessing: ', construc_site)\n",
    "    print(raw_data_root)\n",
    "    print(shapes_root)\n",
    "    createDirectories(output_root,raw_data_root)\n",
    "   \n",
    "    files = os.listdir(raw_data_root)\n",
    "    for dset in files[:1]:\n",
    "        if(os.path.isdir(raw_data_root + dset) == False):\n",
    "            start = time.time()\n",
    "            width, height, channel, imarray, raster = loadTif(raw_data_root, dset)\n",
    "            print \"Currently working on\", dset[: -4]\n",
    "            cropImage(dset, imarray, height, width)\n",
    "            print \"Creating label data\"\n",
    "            shapes = readShapeFiles(dset, raster, shapes_root)\n",
    "            saveToUnmerged(dset, shapes, labels_dict_cleaned)\n",
    "            create_label_data(dset)\n",
    "            print \"This took\", round((time.time() - start) / 60., 2), \"minutes\"\n",
    "            print\n",
    "            \n",
    "complete_end = time.time()\n",
    "print('The full time to preprocess is ', round((complete_end-complete_start)/60. , 2)) "
   ]
  },
  {
   "cell_type": "markdown",
   "metadata": {},
   "source": [
    "### Create Train, Test, Holdout Files"
   ]
  },
  {
   "cell_type": "code",
   "execution_count": 5,
   "metadata": {
    "collapsed": false
   },
   "outputs": [],
   "source": [
    "DATASET_HOLDOUT_FLAG = True\n",
    "create_train_test_files_V2(0.2,0.4, DATASET_HOLDOUT_FLAG,[],[])\n",
    "#create_train_test_files_V2(0.2,0.4, DATASET_HOLDOUT_FLAG,['S8_DS7_20160621'],['S7_DS6_20160624'])"
   ]
  },
  {
   "cell_type": "markdown",
   "metadata": {},
   "source": [
    "# Model Statistics"
   ]
  },
  {
   "cell_type": "code",
   "execution_count": 6,
   "metadata": {
    "collapsed": false,
    "scrolled": true
   },
   "outputs": [
    {
     "name": "stdout",
     "output_type": "stream",
     "text": [
      "10504\n",
      "Done. Total images cropped: 10504\n",
      "Done. Total images cropped: 10504\n",
      "{'bridge': 4316229, 'container': 2254939, 'asphalt': 255009429, 'heap of sand': 15276336, 'cars': 17825848, 'pipes': 551187, 'rubble': 0, 'reinforcement': 6793740, 'water': 15066633, 'concrete': 12213231, 'trees': 40506709, 'background': 0, 'wooden boards': 24141, 'foundations': 5775845, 'grass': 603647, 'heavy earthy equipment': 0, 'concrete rings': 126119, 'bike lane': 0}\n",
      "{'bridge': 366337, 'container': 183401, 'asphalt': 248543071, 'heap of sand': 82135739, 'cars': 18575128, 'pipes': 1145460, 'rubble': 2735201, 'reinforcement': 1684796, 'water': 8971072, 'concrete': 10283492, 'trees': 63737769, 'background': 0, 'wooden boards': 3996259, 'foundations': 3608364, 'grass': 61826019, 'heavy earthy equipment': 28833570, 'concrete rings': 135378, 'bike lane': 1427119}\n",
      "{'bridge': 13340, 'container': 44614, 'asphalt': 181846970, 'heap of sand': 13145249, 'cars': 4674055, 'pipes': 141851, 'rubble': 0, 'reinforcement': 492999, 'water': 5591800, 'concrete': 687953, 'trees': 27613427, 'background': 0, 'wooden boards': 7110, 'foundations': 5588, 'grass': 243136, 'heavy earthy equipment': 0, 'concrete rings': 45175, 'bike lane': 0}\n",
      "{'Recall:': [('foundations', 0.0009674774859782421), ('bridge', 0.003090660852331978), ('container', 0.019785014140072082), ('concrete', 0.056328501442411104), ('reinforcement', 0.07256665695184096), ('pipes', 0.2573554891534089), ('cars', 0.2622066002133531), ('wooden boards', 0.2945196967814092), ('concrete rings', 0.3581934522157645), ('water', 0.37113799745437487), ('grass', 0.4027784450183634), ('trees', 0.6817000857808517), ('asphalt', 0.7130990046646472), ('heap of sand', 0.8604975041135519)], 'Precision:': [('foundations', 0.0015486242518770279), ('wooden boards', 0.001779163963096486), ('grass', 0.003932583788065022), ('bridge', 0.036414558180036416), ('concrete', 0.06689877329607491), ('pipes', 0.12383758490038936), ('heap of sand', 0.1600429868902744), ('container', 0.24325930611065372), ('cars', 0.25162975996719916), ('reinforcement', 0.29261643546162264), ('concrete rings', 0.3336952828376841), ('trees', 0.4332349160197308), ('water', 0.6233145826942421), ('asphalt', 0.7316517385431357)]}\n"
     ]
    }
   ],
   "source": [
    "testMain('Case3_Cars_ReinF_filtered_20160901_iter_120000.caffemodel','holdout.txt',labels_dict_cleaned)"
   ]
  }
 ],
 "metadata": {
  "kernelspec": {
   "display_name": "Python 2",
   "language": "python",
   "name": "python2"
  },
  "language_info": {
   "codemirror_mode": {
    "name": "ipython",
    "version": 2
   },
   "file_extension": ".py",
   "mimetype": "text/x-python",
   "name": "python",
   "nbconvert_exporter": "python",
   "pygments_lexer": "ipython2",
   "version": "2.7.11"
  }
 },
 "nbformat": 4,
 "nbformat_minor": 0
}
